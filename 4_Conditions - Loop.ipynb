{
 "cells": [
  {
   "cell_type": "markdown",
   "metadata": {},
   "source": [
    "# Conditions\n",
    "## Các toán tử so sánh: ==, !=, and, or, in, not in\n",
    "### Câu lệnh if\n",
    "    if <điều kiện>:\n",
    "        <xử lý>\n",
    "        \n",
    "### câu lệnh if else\n",
    "    if <điều kiện>:\n",
    "        <xử lý>\n",
    "    else:\n",
    "        <xử lý>\n",
    "### nhiều điều kiện\n",
    "    if <điều kiện>:\n",
    "        <xử lý>\n",
    "    elif:\n",
    "        <xử lý>\n",
    "    ...\n",
    "    else:\n",
    "        <xử lý>"
   ]
  },
  {
   "cell_type": "code",
   "execution_count": 4,
   "metadata": {},
   "outputs": [],
   "source": [
    "#Bài tập nhập vào 1 số kiểm tra tính chẵn le3\n",
    "    "
   ]
  },
  {
   "cell_type": "markdown",
   "metadata": {},
   "source": [
    "# Vòng lặp for\n",
    "### Cú pháp\n",
    "    for <bien_lap> in <chuoi_lap>:\n",
    "        <Khối lệnh>\n",
    "        \n",
    "### Hàm range(< begin >, < end > , < step >)\n",
    "     - Hàm range() để tạo ra một dãy số\n",
    "     - Mặc định begin = 0 và step = 1\n"
   ]
  },
  {
   "cell_type": "code",
   "execution_count": 5,
   "metadata": {},
   "outputs": [
    {
     "name": "stdout",
     "output_type": "stream",
     "text": [
      "0 1 2 "
     ]
    }
   ],
   "source": [
    "# 1 tham số end\n",
    "for i in range(3):\n",
    "    print(i, end=' ')"
   ]
  },
  {
   "cell_type": "code",
   "execution_count": 6,
   "metadata": {},
   "outputs": [
    {
     "name": "stdout",
     "output_type": "stream",
     "text": [
      "2 3 4 5 6 7 8 9 "
     ]
    }
   ],
   "source": [
    "# 2 tham số begin, end\n",
    "for i in range(2, 10):\n",
    "    print(i, end=' ')"
   ]
  },
  {
   "cell_type": "code",
   "execution_count": 9,
   "metadata": {},
   "outputs": [
    {
     "name": "stdout",
     "output_type": "stream",
     "text": [
      "2 5 8 "
     ]
    }
   ],
   "source": [
    "#3 tham số begin, end, step\n",
    "for i in range(2, 10, 3):\n",
    "    print(i, end=' ')"
   ]
  },
  {
   "cell_type": "markdown",
   "metadata": {},
   "source": [
    "# Vòng lặp while\n",
    "## Cú pháp\n",
    "    while <điều kiện>:\n",
    "        <Xử lý>"
   ]
  },
  {
   "cell_type": "code",
   "execution_count": 12,
   "metadata": {},
   "outputs": [],
   "source": [
    "# bài tập tìm UCLN 2 số \n"
   ]
  },
  {
   "cell_type": "code",
   "execution_count": null,
   "metadata": {},
   "outputs": [],
   "source": []
  },
  {
   "cell_type": "markdown",
   "metadata": {},
   "source": [
    "# Bài tập:\n",
    "    1. Nhập vào 1 số kiểm tra có phải là số nguyên tố\n",
    "    2. In ra các số nguyên tố nhỏ hơn n\n",
    "    3. In ra n số nguyên tố đầu tiên\n",
    "    4. Nhập vào 3 cạnh tam giác kiểm tra có phải tam giác. Tính diện tích tam giác vừa nhập\n",
    "    5. The provided code stub reads and integer n from STDIN. For all non-negative integers i<n, print i^2.\n",
    "    \n",
    "    \n",
    "    6. An extra day is added to the calendar almost every four years as February 29, and the day is called a leap day. It corrects the calendar for the fact that our planet takes approximately 365.25 days to orbit the sun. A leap year contains a leap day.\n",
    "\n",
    "        In the Gregorian calendar, three conditions are used to identify leap years:\n",
    "\n",
    "        The year can be evenly divided by 4, is a leap year, unless:\n",
    "        The year can be evenly divided by 100, it is NOT a leap year, unless:\n",
    "        The year is also evenly divisible by 400. Then it is a leap year.\n",
    "        This means that in the Gregorian calendar, the years 2000 and 2400 are leap years, while 1800, 1900, 2100, 2200, 2300 and 2500 are NOT leap years\n",
    "        Given a year, determine whether it is a leap year. If it is a leap year, return the Boolean True, otherwise return False.\n",
    "    \n",
    "    7. You are given a string and your task is to swap cases. In other words, convert all lowercase letters to uppercase letters and vice versa. (tutorial: isupper, islower, upper, lower)\n",
    "    \n",
    "    8. In this challenge, the user enters a string and a substring. You have to print the number of times that the substring occurs in the given string. String traversal will take place from left to right, not from right to left.\n",
    "    "
   ]
  },
  {
   "cell_type": "code",
   "execution_count": null,
   "metadata": {},
   "outputs": [],
   "source": []
  }
 ],
 "metadata": {
  "kernelspec": {
   "display_name": "Python 3",
   "language": "python",
   "name": "python3"
  },
  "language_info": {
   "codemirror_mode": {
    "name": "ipython",
    "version": 3
   },
   "file_extension": ".py",
   "mimetype": "text/x-python",
   "name": "python",
   "nbconvert_exporter": "python",
   "pygments_lexer": "ipython3",
   "version": "3.7.4"
  }
 },
 "nbformat": 4,
 "nbformat_minor": 4
}
