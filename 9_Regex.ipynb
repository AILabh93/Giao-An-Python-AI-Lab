{
 "cells": [
  {
   "cell_type": "markdown",
   "metadata": {},
   "source": [
    "### Regex hoặc Regular Expression - biểu thức chính quy là một chuỗi các ký tự tạo thành một chuỗi tìm kiếm\n",
    "### Regex có thể được dùng để kiểm tra các chuỗi có chứa các mẫu đặc biệt hay không\n",
    "### Để sử dụng regex sử dụng thư viện re: import re"
   ]
  },
  {
   "cell_type": "code",
   "execution_count": 10,
   "metadata": {},
   "outputs": [
    {
     "data": {
      "text/plain": [
       "<_sre.SRE_Match object; span=(6, 9), match='123'>"
      ]
     },
     "execution_count": 10,
     "metadata": {},
     "output_type": "execute_result"
    }
   ],
   "source": [
    "# VD\n",
    "import re\n",
    "text='hello 123abc acbd'\n",
    "re.search('[0-9]+', text)"
   ]
  },
  {
   "cell_type": "markdown",
   "metadata": {},
   "source": [
    "## Metacharacters\n",
    "    - []: Một tập nhiều ký tự\n",
    "    - \\ : Dùng để sử dụng một chuỗi đặc biệt như: ()[].?*+\n",
    "    - . : khớp với mọi ký tự\n",
    "    - ^ : Bắt đầu một chuỗi\n",
    "    - $ : Kết thúc một chuỗi\n",
    "    - * : 0 hoặc nhiều lần xuất hiện\n",
    "    - + : 1 hoặc nhiều lần xuất hiện\n",
    "    - {} : số lần xuất hiện chính xác\n",
    "    - | : hoặc \n",
    "    - () : nhóm nhiều biểu thức\n",
    "    - [abc] : khớp với a hoặc b hoặc c\n",
    "    - [a-z] : khớp với một trong các ký tự từ a-z\n",
    "    - [^abc]: khớp với tất cả ký tự ngoại trừ abc\n",
    "    - [a-zA-Z]: khớp với 1 trong các ký tự a->z hoặc A->Z"
   ]
  },
  {
   "cell_type": "markdown",
   "metadata": {},
   "source": [
    "### Các hàm thường sử dụng:\n",
    "    - findall: trả về một danh sách các kết quả khớp với mẫu\n",
    "    - search: trả về một đối tượng Match nếu nó khớp bất kì đâu trong chuỗi\n",
    "    - sub: thay thế một hoặc nhiều kết quả phù hợp với mẫu bằng một chuội mới\n",
    "    - match: "
   ]
  },
  {
   "cell_type": "code",
   "execution_count": 7,
   "metadata": {},
   "outputs": [
    {
     "data": {
      "text/plain": [
       "['234bd', '44b']"
      ]
     },
     "execution_count": 7,
     "metadata": {},
     "output_type": "execute_result"
    }
   ],
   "source": [
    "# finall\n",
    "text='abc 234bd haha 44b'\n",
    "re.findall('[0-9]+[a-z]+', text)"
   ]
  },
  {
   "cell_type": "code",
   "execution_count": 9,
   "metadata": {},
   "outputs": [
    {
     "data": {
      "text/plain": [
       "'abc xyz'"
      ]
     },
     "execution_count": 9,
     "metadata": {},
     "output_type": "execute_result"
    }
   ],
   "source": [
    "# sub\n",
    "text = '%abc */+xyz'\n",
    "re.sub('[^a-z ]', '', text)"
   ]
  },
  {
   "cell_type": "code",
   "execution_count": null,
   "metadata": {},
   "outputs": [],
   "source": []
  }
 ],
 "metadata": {
  "kernelspec": {
   "display_name": "Python 3",
   "language": "python",
   "name": "python3"
  },
  "language_info": {
   "codemirror_mode": {
    "name": "ipython",
    "version": 3
   },
   "file_extension": ".py",
   "mimetype": "text/x-python",
   "name": "python",
   "nbconvert_exporter": "python",
   "pygments_lexer": "ipython3",
   "version": "3.6.9"
  }
 },
 "nbformat": 4,
 "nbformat_minor": 4
}
