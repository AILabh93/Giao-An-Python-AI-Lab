{
 "cells": [
  {
   "cell_type": "markdown",
   "metadata": {},
   "source": [
    "## pandas: thư viện hỗ trợ đắc lực trong thao tác dữ liệu\n",
    "### Khái niệm Series và Dataframe\n",
    "    - Hiểu một cách đơn giản thỉ dataframe là bảng còn series là các cột của bảng \n",
    "    - Mỗi dataframe luôn có một cột ngoài cùng bên trái gọi là cột index\n"
   ]
  },
  {
   "cell_type": "code",
   "execution_count": 1,
   "metadata": {},
   "outputs": [],
   "source": [
    "import pandas as pd"
   ]
  },
  {
   "cell_type": "code",
   "execution_count": 5,
   "metadata": {},
   "outputs": [
    {
     "name": "stdout",
     "output_type": "stream",
     "text": [
      "   col1  col2\n",
      "0     1     4\n",
      "1     2     5\n",
      "2     3     6\n"
     ]
    }
   ],
   "source": [
    "# tạo 1 dataframe\n",
    "df = pd.DataFrame({'col1':[1, 2, 3], 'col2':[4, 5, 6]})\n",
    "print(df)"
   ]
  },
  {
   "cell_type": "markdown",
   "metadata": {},
   "source": [
    "### Đọc file csv\n",
    "    - pd.read_csv(<file_name>, <sep>, <header>, <dtype>)\n",
    "        + sep : ký tự phân cách giữa các cột mặc định là dấu phẩy\n",
    "        + header : chỉ ra đâu là tiêu đề của các cột \n",
    "        + dtype : kiểu dữ liệu"
   ]
  },
  {
   "cell_type": "code",
   "execution_count": null,
   "metadata": {},
   "outputs": [],
   "source": []
  },
  {
   "cell_type": "markdown",
   "metadata": {},
   "source": [
    "### Các câu lệnh select dữ liệu\n",
    "####    - df.head(<số lượng dòng>)\n",
    "        + Lấy những dòng đầu tiên của bảng\n",
    "        + Nều không quy đĩnh số lương thì mặc định sẽ lấy 10 dòng đầu tiên\n",
    "####    - df.tail(<số lượng dòng>) : tương tự như head nhưng khác ở chỗ nó sẽ lấy từ dưới lên trên\n",
    "####    - df[<tên cột>]:\n",
    "        + Lấy dữ liệu theo cột\n",
    "        + Có thể lấy nhiều cột, tên các cột cách nhau bởi dấu phẩy\n",
    "####    - df.iloc(<index của dòng>)\n",
    "        + Lấy dữ liệu theo dòng\n",
    "        + Để lấy nhiều dòng: df.iloc([<begin>:<end>]). Nếu không có begin mặt định lấy từ đầu, nếu không có end thì sẽ lấy đến cuối\n",
    "####    - df.sort_value(by=[<tên cột>])\n",
    "        + sắp xếp dữ liệu theo giá trị trong cột chỉ định\n",
    "        + Có thể sắp xếp theo nhiều cột các cột cách nhau bởi dấu phẩy \n"
   ]
  },
  {
   "cell_type": "code",
   "execution_count": 6,
   "metadata": {},
   "outputs": [],
   "source": [
    "# VD lọc dử liệu từ bảng "
   ]
  },
  {
   "cell_type": "markdown",
   "metadata": {},
   "source": [
    "### Các lệnh update dữ liệu\n",
    "####    - df.dropna(axis, how, thresh)\n",
    "        + xóa các dòng hoặc cột có chứa giá trị NAN \n",
    "        + axis : bằng 0 xóa dòng, bằng 1 xóa cột\n",
    "        + how nhận giá trị:\n",
    "            . any : xóa các dòng/cột có từ 1 giá trị NAN trở lên\n",
    "            . all : xóa các dòng/cột có tất cả các giá trị đều bằng NAN\n",
    "        + thresh : số lượng giá trị NAN cần xóa \n",
    "####    - df.fillna(<giá trị mới>)\n",
    "        + Thay đổi tất cả giá trị NAN trong bảng thành giá trị mới\n",
    "        + Ta cũng có thể thay đổi trong 1 cột bằng lệnh : df[<tên cột>].fillna(<giá trị mới>)\n",
    "####    - df.drop([<tên cột/dòng>])\n",
    "        + Xóa cột/dòng trong bảng\n",
    "\n",
    "####    - df.append(<dòng mới>)\n",
    "        + Thêm một dòng mới\n",
    "####    - df[<tên cột mới>] = <giá trị>\n",
    "        + Thêm một cột vào bảng\n",
    "        \n"
   ]
  },
  {
   "cell_type": "code",
   "execution_count": null,
   "metadata": {},
   "outputs": [],
   "source": []
  }
 ],
 "metadata": {
  "kernelspec": {
   "display_name": "Python 3",
   "language": "python",
   "name": "python3"
  },
  "language_info": {
   "codemirror_mode": {
    "name": "ipython",
    "version": 3
   },
   "file_extension": ".py",
   "mimetype": "text/x-python",
   "name": "python",
   "nbconvert_exporter": "python",
   "pygments_lexer": "ipython3",
   "version": "3.6.9"
  }
 },
 "nbformat": 4,
 "nbformat_minor": 4
}
