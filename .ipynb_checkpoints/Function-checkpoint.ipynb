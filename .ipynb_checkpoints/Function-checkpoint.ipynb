{
 "cells": [
  {
   "cell_type": "markdown",
   "metadata": {},
   "source": [
    "# Khai báo hàm\n",
    "    def <tên hàm>(<biến 1>, ..., <biến n>):\n",
    "        <xử lý>\n",
    "        "
   ]
  },
  {
   "cell_type": "code",
   "execution_count": 2,
   "metadata": {},
   "outputs": [
    {
     "name": "stdout",
     "output_type": "stream",
     "text": [
      "hello function\n"
     ]
    }
   ],
   "source": [
    "def hello():\n",
    "    print('hello function')\n",
    "hello()"
   ]
  },
  {
   "cell_type": "code",
   "execution_count": 3,
   "metadata": {},
   "outputs": [],
   "source": [
    "def hello():\n",
    "    pass"
   ]
  },
  {
   "cell_type": "markdown",
   "metadata": {},
   "source": [
    "### Lệnh pass \n",
    "    - Lệnh pass phía trên là lệnh giữ chỗ giúp các khỗi lệnh của python không bị lỗi khi bạn chưa biết viết gì bên trong"
   ]
  },
  {
   "cell_type": "markdown",
   "metadata": {},
   "source": [
    "### Giá trị mặc định của biến \n",
    "    - Khi một biến truyền giá trị vào hàm có tần suất xuất hiện một giá trị nào đó cao thì ta nên đặt giá trị mặc định cho biến đó \n",
    "    - Các biến đặt giá trị mặc định phải đặt sau cùng \n",
    "   "
   ]
  },
  {
   "cell_type": "code",
   "execution_count": 6,
   "metadata": {},
   "outputs": [
    {
     "name": "stdout",
     "output_type": "stream",
     "text": [
      "hi a\n",
      "hi b\n"
     ]
    }
   ],
   "source": [
    "def chao(name, greet):\n",
    "    print(greet+' '+name) \n",
    "\n",
    "chao('a', 'hi')\n",
    "chao('b', 'hi')"
   ]
  },
  {
   "cell_type": "code",
   "execution_count": 11,
   "metadata": {},
   "outputs": [
    {
     "name": "stdout",
     "output_type": "stream",
     "text": [
      "hi a\n",
      "hi b\n",
      "hello c\n"
     ]
    }
   ],
   "source": [
    "def chao(name, greet='hi'):\n",
    "    print(greet+' '+name)\n",
    "chao('a')\n",
    "chao('b')\n",
    "chao('c', greet='hello')"
   ]
  },
  {
   "cell_type": "markdown",
   "metadata": {},
   "source": [
    "### Unpacking arguments với *\n",
    "    - Dùng để tách từng giá trị trong list truyền vào ham2"
   ]
  },
  {
   "cell_type": "code",
   "execution_count": 18,
   "metadata": {},
   "outputs": [
    {
     "name": "stdout",
     "output_type": "stream",
     "text": [
      "hello a\n",
      "1\n",
      "2\n",
      "3\n"
     ]
    }
   ],
   "source": [
    "# VD1:\n",
    "def hello(a, b):\n",
    "    print(a+ ' '+b)\n",
    "l=['hello', 'a']\n",
    "hello(*l)\n",
    "# VD2:\n",
    "def hi(a, b, c):\n",
    "    print(a)\n",
    "    print(b)\n",
    "    print(c)\n",
    "l2=[1, 2]\n",
    "hi(*l2, 3)"
   ]
  },
  {
   "cell_type": "markdown",
   "metadata": {},
   "source": [
    "### Packing arguments với * \n",
    "    - Dùng để nhận không giới hạn các biến truyền vào hàm \n",
    "    - nó sử dụng một biến để gói tất cả các biến lại thành một Tupple rồi truyền vào ham2"
   ]
  },
  {
   "cell_type": "code",
   "execution_count": 28,
   "metadata": {},
   "outputs": [
    {
     "name": "stdout",
     "output_type": "stream",
     "text": [
      "a\n",
      "('b', 'c')\n"
     ]
    }
   ],
   "source": [
    "# VD \n",
    "def a(b ,*name):\n",
    "    print(b)\n",
    "    print(name)\n",
    "\n",
    "a('a', 'b', 'c')"
   ]
  },
  {
   "cell_type": "markdown",
   "metadata": {},
   "source": [
    "### Unpacking arguments với **\n",
    "    - Dùng truyền dữ liệu kiểu dict vào hàm mà không cần truyền từng giá trị trong dict\n",
    "    - Tên biến truyền vào và key phải giống nhau "
   ]
  },
  {
   "cell_type": "code",
   "execution_count": 32,
   "metadata": {},
   "outputs": [
    {
     "name": "stdout",
     "output_type": "stream",
     "text": [
      "1\n",
      "2\n"
     ]
    }
   ],
   "source": [
    "# VD \n",
    "def a(b, c):\n",
    "    print(b)\n",
    "    print(c)\n",
    "d={'b':1, 'c':2}\n",
    "a(**d)"
   ]
  },
  {
   "cell_type": "markdown",
   "metadata": {},
   "source": [
    "### Packing arguments với **\n",
    "    - Các giá trị truyền vào sẽ được gói lại vào trong 1 dict\n",
    "    - Sử dụng khi chưa biết số lượng biến truyền vào là bao nhiêu\n",
    "    - khi gọi hàm phải kèm tên biến và giá trị"
   ]
  },
  {
   "cell_type": "code",
   "execution_count": 35,
   "metadata": {},
   "outputs": [
    {
     "name": "stdout",
     "output_type": "stream",
     "text": [
      "name a\n",
      "age 20\n"
     ]
    }
   ],
   "source": [
    "# VD\n",
    "def a(**k):\n",
    "    for key, value in k.items():\n",
    "        print(key, value)\n",
    "a(name='a', age=20)"
   ]
  },
  {
   "cell_type": "markdown",
   "metadata": {},
   "source": [
    "## Lệnh return\n",
    "    - Là lệnh dùng để trả về giá trị trong hàm\n",
    "    - Lệnh return có thể trả về nhiều giá trị cùng luc1"
   ]
  },
  {
   "cell_type": "code",
   "execution_count": 1,
   "metadata": {},
   "outputs": [
    {
     "name": "stdout",
     "output_type": "stream",
     "text": [
      "8 2\n"
     ]
    }
   ],
   "source": [
    "def cong(a, b):\n",
    "    return a+b\n",
    "\n",
    "def cong_tru(a, b):\n",
    "    return a+b, a-b\n",
    "\n",
    "cong, tru = cong_tru(5, 3)\n",
    "print(cong, tru)"
   ]
  },
  {
   "cell_type": "markdown",
   "metadata": {},
   "source": [
    "## Lệnh yield\n",
    "    - Lệnh này giống với lệnh return nhưng khác ở chỗ lệnh này trả về từng giá trị còn lệnh return trả về cùng lúc nhiều giá trị "
   ]
  },
  {
   "cell_type": "code",
   "execution_count": 7,
   "metadata": {},
   "outputs": [
    {
     "name": "stdout",
     "output_type": "stream",
     "text": [
      "0\n",
      "1\n",
      "2\n",
      "3\n",
      "4\n",
      "5\n",
      "6\n",
      "7\n",
      "8\n",
      "9\n"
     ]
    }
   ],
   "source": [
    "# VD: in các số nhỏ hơn b\n",
    "def a(b):\n",
    "    l=[]\n",
    "    for i in range(b):\n",
    "        l.append(i)\n",
    "    return l\n",
    "\n",
    "def a1(b):\n",
    "    for i in range(b):\n",
    "        yield i\n",
    "        "
   ]
  },
  {
   "cell_type": "code",
   "execution_count": null,
   "metadata": {},
   "outputs": [],
   "source": []
  }
 ],
 "metadata": {
  "kernelspec": {
   "display_name": "Python 3",
   "language": "python",
   "name": "python3"
  },
  "language_info": {
   "codemirror_mode": {
    "name": "ipython",
    "version": 3
   },
   "file_extension": ".py",
   "mimetype": "text/x-python",
   "name": "python",
   "nbconvert_exporter": "python",
   "pygments_lexer": "ipython3",
   "version": "3.6.9"
  }
 },
 "nbformat": 4,
 "nbformat_minor": 4
}
