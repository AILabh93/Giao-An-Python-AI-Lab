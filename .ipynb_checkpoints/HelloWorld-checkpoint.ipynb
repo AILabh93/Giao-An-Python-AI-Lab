{
 "cells": [
  {
   "cell_type": "markdown",
   "metadata": {},
   "source": [
    "# Hàm print()\n",
    "### print(*objects, sep=' ', end='\\n')\n",
    "- Trong đó:\n",
    "    + objects: đối tượng được in, có thể có nhiều đối tượng. Sẽ được chuyển đổi thành chuỗi trước khi hiển thị ra màn hình và cách nhau bởi sep.\n",
    "    + sep: cách tách riêng các đối tượng, giá trị mặc định là một khoảng trắng .\n",
    "    + end: giá trị cuối cùng được in ra màn hình mặc định là Enter."
   ]
  },
  {
   "cell_type": "code",
   "execution_count": 6,
   "metadata": {},
   "outputs": [
    {
     "name": "stdout",
     "output_type": "stream",
     "text": [
      "1 2 3 4\n"
     ]
    }
   ],
   "source": [
    "#object\n",
    "print(1, 2, 3, 4)"
   ]
  },
  {
   "cell_type": "code",
   "execution_count": 2,
   "metadata": {},
   "outputs": [
    {
     "name": "stdout",
     "output_type": "stream",
     "text": [
      "1/2/3/4\n"
     ]
    }
   ],
   "source": [
    "#sep\n",
    "print(1, 2, 3, 4, sep='/')"
   ]
  },
  {
   "cell_type": "code",
   "execution_count": 4,
   "metadata": {},
   "outputs": [
    {
     "name": "stdout",
     "output_type": "stream",
     "text": [
      "xin chao AI Lab"
     ]
    }
   ],
   "source": [
    "#end\n",
    "print('xin chao ', end='AI Lab')"
   ]
  },
  {
   "cell_type": "markdown",
   "metadata": {},
   "source": [
    "# Comment trong python\n",
    "## - Nếu muốn comment 1 dòng code sử dụng dấu # đầu dòng cần comment\n",
    "## - Nếu muốn comment nhiều dòng sử dụng '''<nội dung cần comment>''' hoặc \"\"\"<Nội dung comment>\"\"\""
   ]
  },
  {
   "cell_type": "code",
   "execution_count": null,
   "metadata": {},
   "outputs": [],
   "source": []
  }
 ],
 "metadata": {
  "kernelspec": {
   "display_name": "Python 3",
   "language": "python",
   "name": "python3"
  },
  "language_info": {
   "codemirror_mode": {
    "name": "ipython",
    "version": 3
   },
   "file_extension": ".py",
   "mimetype": "text/x-python",
   "name": "python",
   "nbconvert_exporter": "python",
   "pygments_lexer": "ipython3",
   "version": "3.6.9"
  }
 },
 "nbformat": 4,
 "nbformat_minor": 4
}
