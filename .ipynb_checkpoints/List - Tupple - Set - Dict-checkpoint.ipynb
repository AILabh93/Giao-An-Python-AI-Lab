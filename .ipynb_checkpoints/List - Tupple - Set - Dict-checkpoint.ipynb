{
 "cells": [
  {
   "cell_type": "markdown",
   "metadata": {},
   "source": [
    "# List\n",
    "    - List là một kiểu dữ liệu được sử dụng rất nhiều trong python\n",
    "    - Một list gồm các yếu tố sau:\n",
    "        + Giới hạn bởi một cặp dấu [] bên trong đó là các phần tử của list\n",
    "        + Các phần tử list được phân cách bởi dấu phẩy\n",
    "        + List có khả năng chứa mọi giá trị kể cả đối tượng và cả chính nó bên trong\n",
    "       "
   ]
  },
  {
   "cell_type": "code",
   "execution_count": 1,
   "metadata": {},
   "outputs": [],
   "source": [
    "# VD\n",
    "a=[1, 2, 3, 4]\n",
    "b=[1, 2, 'Three', 4]\n",
    "c=[1, 2, [3, 4]]"
   ]
  },
  {
   "cell_type": "markdown",
   "metadata": {},
   "source": [
    "# Khởi tạo một list\n",
    "### Cách 1:\n",
    "    [<giá trị thứ nhất>, <giá trị thứ hai>, .., <giá trị thứ n – 1>, <giá trị thứ n>]\n",
    "### Cách 2: Sử dụng List Comprehension\n",
    "### Cách 3: Sử dụng constructor list"
   ]
  },
  {
   "cell_type": "code",
   "execution_count": 9,
   "metadata": {},
   "outputs": [
    {
     "name": "stdout",
     "output_type": "stream",
     "text": [
      "List a:  [1, 2, 3, 4]\n",
      "List b:  [1, 2, 3, 4]\n",
      "List c:  [1, 2, 3, 4]\n",
      "List d:  ['A', 'I', ' ', 'L', 'a', 'b']\n"
     ]
    }
   ],
   "source": [
    "# Cách 1:\n",
    "a=[1, 2, 3, 4]\n",
    "# Cách 2:\n",
    "b=[i for i in range(1, 5)]\n",
    "# Cách 3:\n",
    "c=list([1, 2, 3, 4])\n",
    "d=list('AI Lab')\n",
    "# Kết quả\n",
    "print('List a: ', a)\n",
    "print('List b: ', b)\n",
    "print('List c: ', c)\n",
    "print('List d: ', d)"
   ]
  },
  {
   "cell_type": "markdown",
   "metadata": {},
   "source": [
    "# Toán tử với list \n",
    "     Gồm các toán tử: +, *, in"
   ]
  },
  {
   "cell_type": "code",
   "execution_count": 14,
   "metadata": {},
   "outputs": [
    {
     "name": "stdout",
     "output_type": "stream",
     "text": [
      "Toán tử +:  [1, 2, 3, 4, 5]\n",
      "Toán tử *:  [1, 2, 3, 1, 2, 3]\n",
      "Toán tử in:  True\n"
     ]
    }
   ],
   "source": [
    "a=[1, 2, 3]\n",
    "b=[4, 5]\n",
    "print('Toán tử +: ', a+b)\n",
    "print('Toán tử *: ', a*2)\n",
    "print('Toán tử in: ', 3 in a)"
   ]
  },
  {
   "cell_type": "markdown",
   "metadata": {},
   "source": [
    "# Cắt list, truy cấp các phần tử trong list tương tự như String\n",
    "# Duyệt các phần tử trong List\n",
    "## Cách 1: duyệt trực tiếp giá trị \n",
    "    for <biến lặp> in <list>:\n",
    "        <xử lý>\n",
    "## Cách 2: duyệt qua index\n",
    "    for <biến lặp> in range(len(<list>)):\n",
    "        <xử lý>\n",
    "** note : hàm len() dùng dể tính độ dài list\n",
    "\n",
    "# Duyệt nhiều list cùng lúc sử dụng hàm zip(< list 1>,..., < list n>)"
   ]
  },
  {
   "cell_type": "code",
   "execution_count": 16,
   "metadata": {},
   "outputs": [
    {
     "name": "stdout",
     "output_type": "stream",
     "text": [
      "1 2 3 4 \n",
      "1 2 3 4 "
     ]
    }
   ],
   "source": [
    "a=[1,2, 3, 4]\n",
    "# cách 1:\n",
    "for i in a:\n",
    "    print(i, end=' ')\n",
    "print()\n",
    "#cách 2:\n",
    "for i in range(len(a)):\n",
    "    print(a[i], end=' ')"
   ]
  },
  {
   "cell_type": "code",
   "execution_count": 23,
   "metadata": {},
   "outputs": [
    {
     "name": "stdout",
     "output_type": "stream",
     "text": [
      "1 4\n",
      "2 5\n",
      "3 6\n"
     ]
    }
   ],
   "source": [
    "a=[1, 2, 3]\n",
    "b=[4, 5, 6]\n",
    "for i, j in zip(a, b):\n",
    "    print(i, j)"
   ]
  },
  {
   "cell_type": "markdown",
   "metadata": {},
   "source": [
    "# Thay đổi giá trị trong list\n",
    "    list[<index>]=<giá trị mới>\n",
    "** note hạn chế gán list này sang list khác nếu không cần thiết"
   ]
  },
  {
   "cell_type": "code",
   "execution_count": 24,
   "metadata": {},
   "outputs": [
    {
     "name": "stdout",
     "output_type": "stream",
     "text": [
      "[4, 2, 3]\n"
     ]
    }
   ],
   "source": [
    "a=[1, 2, 3]\n",
    "a[0]=4\n",
    "print(a)"
   ]
  },
  {
   "cell_type": "code",
   "execution_count": 25,
   "metadata": {},
   "outputs": [
    {
     "name": "stdout",
     "output_type": "stream",
     "text": [
      "[4, 2, 3]\n"
     ]
    }
   ],
   "source": [
    "a=[1, 2, 3]\n",
    "b=a\n",
    "b[0]=4\n",
    "print(a)"
   ]
  },
  {
   "cell_type": "markdown",
   "metadata": {},
   "source": [
    "# Các phương thức thường sử dụng trong list\n",
    "### count\n",
    "    - Trả về số lần xuất hiện của giá trị trong list\n",
    "    - <list>.count(<giá trị>)\n",
    "### index\n",
    "    - trả về vị trí đầu tiên của giá trị xuất hiện trong list\n",
    "    - <list>.index(<giá trị>)\n",
    "### copy\n",
    "    - Trả về một list mới \n",
    "    - <list>.copy()\n",
    "### clear\n",
    "    - xóa toàn bộ giá trị trong list\n",
    "    - <list>.clear()\n",
    "### append\n",
    "    - thêm một phần tử vào cuổi list\n",
    "    - <list>.append(<phần tử cần thêm>)\n",
    "### extend\n",
    "    - thêm từng phần tử của một list vào list\n",
    "    - <list>.extend(<list cần thêm>)\n",
    "### insert\n",
    "    - chèn một phần tử vào list\n",
    "    - <list>.insert(<vị trí>, <giá trị>)\n",
    "    \n",
    "### remove\n",
    "    - xóa một phần tử trong list\n",
    "    - <list>.remove(<giá trị>)\n",
    "### reverse\n",
    "    - đảo ngược list\n",
    "    - <list>.reverse()\n",
    "### sort\n",
    "    - sắp xếp một list\n",
    "    - <list>.sort(reverse=False)\n",
    "        + reverse mặc định là False sẽ sắp xếp tăng dần\n",
    "        + reverse = True sắp xếp giảm dần"
   ]
  },
  {
   "cell_type": "markdown",
   "metadata": {},
   "source": [
    "# Tupple\n",
    "    - Được giới hạn bởi cặp ngoặc ()\n",
    "    - Các phần tử được phân cách nhau ra bởi dấu phẩy (,).\n",
    "    - Tuple có khả năng chứa mọi giá trị, đối tượng\n",
    "    - Toán tử tương tự như list\n",
    "    - Phương thức: count, index\n",
    "    - Điểm khác nhau với list là giá trị trong tupple không thể thay đổi\n",
    "    "
   ]
  },
  {
   "cell_type": "code",
   "execution_count": null,
   "metadata": {},
   "outputs": [],
   "source": []
  },
  {
   "cell_type": "markdown",
   "metadata": {},
   "source": [
    "# Set\n",
    "    - Được giới hạn bởi cặp ngoặc {}\n",
    "    - Các phần tử được phân cách nhau ra bởi dấu phẩy (,).\n",
    "    - Set không chứa nhiều hơn 1 phần tử trùng lặp và không được chứa chính nó\n",
    "# Toán tử trong set\n",
    "### - Toán tử in :\n",
    "    - <giá trị> in <set>\n",
    "    - Trả về True nếu giá trị có trong set ngược lại là False\n",
    "### - Toán tử - :\n",
    "    - <set_1> - <set_2>\n",
    "    - Trả về một set các giá trị tồn tại trong set_1 mà không tồn tại trong set_2\n",
    "### - Toán tử & :\n",
    "    - <set_1> & <set_2>\n",
    "    - Trả về một set các giá trị có trong cả set_1 và set_2\n",
    "\n",
    "### - Toán tử | :\n",
    "    - <set_1> | <set_2>\n",
    "    - Trả về một set gồm tất cả giá trị của set_1 và set_2\n",
    "### - Toán tử ^ :\n",
    "    - <set_1> ^ <set_2>\n",
    "    - Trả về một set chứa các giá trị chỉ tồn tại một trong 2 set \n",
    "   \n",
    "    \n",
    "    \n",
    "    "
   ]
  },
  {
   "cell_type": "code",
   "execution_count": null,
   "metadata": {},
   "outputs": [],
   "source": []
  },
  {
   "cell_type": "markdown",
   "metadata": {},
   "source": [
    "# Phương thức\n",
    "### - add \n",
    "    - <set>.add(<giá trị>)\n",
    "    - thêm một giá trị vào set\n",
    "### - clear\n",
    "    - <set>.clear()\n",
    "    - xóa toàn bộ set\n",
    "### - remove\n",
    "    - <set>.remove(<giá trị>)\n",
    "    - xóa một phần tử trong set\n",
    "### - copy\n",
    "    - <set>.copy()\n",
    "    - trả về một bản sao của set\n",
    "    "
   ]
  },
  {
   "cell_type": "code",
   "execution_count": null,
   "metadata": {},
   "outputs": [],
   "source": []
  },
  {
   "cell_type": "markdown",
   "metadata": {},
   "source": [
    "# Dict\n",
    "    - Được giới hạn bởi cặp ngoặc nhọn {}\n",
    "    - Các phần tử của Dict được phân cách nhau ra bởi dấu phẩy (,).\n",
    "    - Các phần tử của Dict phải là một cặp key-value\n",
    "    - Cặp key-value của phần tử trong Dict được phân cách bởi dấu hai chấm (:)\n",
    "    - Các key trong dict không được trùng nhau\n",
    "### Lấy value trong dict\n",
    "    - <dict>[<key>]\n",
    "    - <dict>.get(<key>)"
   ]
  },
  {
   "cell_type": "code",
   "execution_count": 33,
   "metadata": {},
   "outputs": [],
   "source": [
    "# khởi tạo\n",
    "# cách 1\n",
    "a=dict()\n",
    "a['1']=1\n",
    "# cách 2\n",
    "a={}\n",
    "a['1']=1\n",
    "# cách 3\n",
    "b=[(1, 2), (3, 4)]\n",
    "a=dict(b)\n",
    "# cách 4\n",
    "b=[1, 2, 3]\n",
    "c=[4, 5, 6]\n",
    "a={i:j for i, j in zip(b, c)}\n"
   ]
  },
  {
   "cell_type": "markdown",
   "metadata": {},
   "source": [
    "# Các phương thức\n",
    "\n",
    "### - copy\n",
    "    - <dict>.copy()\n",
    "    - tạo một bản sao của dict\n",
    "### - clear\n",
    "    - <dict>.clear()\n",
    "    - xóa toàn bộ dict\n",
    "### - keys\n",
    "    - <dict>.keys()\n",
    "    - trả về một list các key của dict\n",
    "### - values\n",
    "    - <dict>.values()\n",
    "    - Trả bề một list các giá trị trong list\n"
   ]
  },
  {
   "cell_type": "code",
   "execution_count": null,
   "metadata": {},
   "outputs": [],
   "source": []
  },
  {
   "cell_type": "markdown",
   "metadata": {},
   "source": [
    "# Bài tập:\n",
    "    1. Nhập vào một dãy số ngăn cách bởi dấu phẩy, hãy tạo và in ra một list và một tuple từ các số đó\n",
    "        + hướng dẫn sử dụng split\n",
    "    2. Viết chương trình tìm tất cả các số chia hết cho 7 nhưng không phải bội số của 5, nằm trong đoạn 2000 và 3200 (tính cả 2000 và 3200). Các số thu được sẽ được in thành chuỗi trên một dòng, cách nhau bằng dấu phẩy\n",
    "        + hướng dẫn dùng list để lưu sau đó dùng join để định dạng\n",
    "    3. "
   ]
  }
 ],
 "metadata": {
  "kernelspec": {
   "display_name": "Python 3",
   "language": "python",
   "name": "python3"
  },
  "language_info": {
   "codemirror_mode": {
    "name": "ipython",
    "version": 3
   },
   "file_extension": ".py",
   "mimetype": "text/x-python",
   "name": "python",
   "nbconvert_exporter": "python",
   "pygments_lexer": "ipython3",
   "version": "3.6.9"
  }
 },
 "nbformat": 4,
 "nbformat_minor": 4
}
