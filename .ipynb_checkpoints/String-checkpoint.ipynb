{
 "cells": [
  {
   "cell_type": "markdown",
   "metadata": {},
   "source": [
    "# Một vài thao tác với kiểu String\n",
    "Trong Python, chuỗi là những thứ được đặt trong cặp dấu ‘ ’, hoặc “ ”,  có thể cũng là trong cặp  ‘’’ ‘’’, “”” “””. Nhưng cơ bản và thường đường sử dụng nhất là cặp ‘ ‘ và “ “\n",
    "## Tính độ dài của chuỗi sử dụng hàm len()"
   ]
  },
  {
   "cell_type": "code",
   "execution_count": 11,
   "metadata": {},
   "outputs": [
    {
     "name": "stdout",
     "output_type": "stream",
     "text": [
      "hello python\n",
      "12\n"
     ]
    }
   ],
   "source": [
    "a='hello python'\n",
    "print(a)\n",
    "print(len(a))"
   ]
  },
  {
   "cell_type": "markdown",
   "metadata": {},
   "source": [
    "# Escape Sequence\n",
    "### Escape Sequence là một chuỗi các ký tự đặc biệt\n",
    "### VD: \\n, \\t, \\a ...\n",
    "### Để in ra các ký tự đặc biệt này ta thêm ký tự r trước chuỗi"
   ]
  },
  {
   "cell_type": "code",
   "execution_count": 5,
   "metadata": {},
   "outputs": [
    {
     "name": "stdout",
     "output_type": "stream",
     "text": [
      "xin \n",
      "chao\n",
      "chao \\nban\n"
     ]
    }
   ],
   "source": [
    "a='xin \\nchao'\n",
    "print(a)\n",
    "b=r'chao \\nban'\n",
    "print(b)"
   ]
  },
  {
   "cell_type": "markdown",
   "metadata": {},
   "source": [
    "# Các toán tử với chuỗi\n",
    "## Đi vào ví dụ từng toán tử "
   ]
  },
  {
   "cell_type": "code",
   "execution_count": 7,
   "metadata": {},
   "outputs": [
    {
     "name": "stdout",
     "output_type": "stream",
     "text": [
      "xin chào mọi người\n"
     ]
    }
   ],
   "source": [
    "# Toán tử cộng\n",
    "a='xin chào'\n",
    "b='mọi người'\n",
    "c=a+' '+b\n",
    "print(c)"
   ]
  },
  {
   "cell_type": "code",
   "execution_count": 8,
   "metadata": {},
   "outputs": [
    {
     "name": "stdout",
     "output_type": "stream",
     "text": [
      "nnnnnnnnnn\n"
     ]
    }
   ],
   "source": [
    "#Toán tử *\n",
    "a='n'*10\n",
    "print(a)"
   ]
  },
  {
   "cell_type": "code",
   "execution_count": 10,
   "metadata": {},
   "outputs": [
    {
     "name": "stdout",
     "output_type": "stream",
     "text": [
      "True\n"
     ]
    }
   ],
   "source": [
    "#Toán tử in: kiểm tra chuỗi này có chứa chuỗi kia hay không\n",
    "a = 'xin chào'\n",
    "b = 'xin'\n",
    "print(b in a)"
   ]
  },
  {
   "cell_type": "markdown",
   "metadata": {},
   "source": [
    "# Cắt chuỗi\n",
    "## Index của chuỗi được đánh số:\n",
    "    - Từ ký tự đầu đến cuối bắt đầu index = 0\n",
    "    - Từ ký tự cuối cùng về trước bắt đầu index = -1\n",
    "### Có thể truy cập bất cứ phần tử nào trong chuỗi bằng cú pháp: <chuỗi>[index]\n",
    "### Cắt chuỗi: <chuỗi>[vị trí bắt đầu : vị trí dừng]\n",
    "\n",
    "\n"
   ]
  },
  {
   "cell_type": "code",
   "execution_count": 17,
   "metadata": {},
   "outputs": [
    {
     "name": "stdout",
     "output_type": "stream",
     "text": [
      "I\n",
      "I\n",
      "Xin chào \n"
     ]
    }
   ],
   "source": [
    "a='Xin chào AI Lab'\n",
    "print(a[10])\n",
    "print(a[-5])\n",
    "print(a[0:9])\n"
   ]
  },
  {
   "cell_type": "markdown",
   "metadata": {},
   "source": [
    "# Một số phương thức:\n",
    "#### - upper(): <chuỗi>.upper()\n",
    "#### - lower(): <chuỗi>.lower()\n",
    "#### - join(): <kí tự nối>.join(<mảng>)\n",
    "#### - replace(): <chuỗi>.replace(<giá trị cũ>, <giá trị mới>, <số lượng>)\n",
    "#### - strip(): <chuỗi>.strip([chars])\n",
    "#### - index(): <chuỗi>.index(<giá trị>)\n",
    "#### - find() : <chuỗi>.find(<giá trị>)\n",
    "#### - split() : <chuỗi>.split(<ký tự tách>)"
   ]
  },
  {
   "cell_type": "code",
   "execution_count": 7,
   "metadata": {},
   "outputs": [
    {
     "name": "stdout",
     "output_type": "stream",
     "text": [
      "HELLO\n",
      "xin chào\n",
      "a/b/c\n",
      "hi\n",
      "hi\n",
      "      ci\n",
      "2\n",
      "['1', '2', '3', '4', '5', '5']\n"
     ]
    }
   ],
   "source": [
    "a='hello'\n",
    "b='XIN CHÀO'\n",
    "c='      hi'\n",
    "d='hi######'\n",
    "e=['a', 'b', 'c']\n",
    "print(a.upper())\n",
    "print(b.lower())\n",
    "print('/'.join(e))\n",
    "print(c.strip())\n",
    "print(d.strip('#'))\n",
    "print(c.replace('h', 'c'))\n",
    "print(a.find('l'))\n",
    "\n",
    "a='1/2/3/4/5/5'\n",
    "print(a.split('/'))"
   ]
  },
  {
   "cell_type": "code",
   "execution_count": null,
   "metadata": {},
   "outputs": [],
   "source": []
  }
 ],
 "metadata": {
  "kernelspec": {
   "display_name": "Python 3",
   "language": "python",
   "name": "python3"
  },
  "language_info": {
   "codemirror_mode": {
    "name": "ipython",
    "version": 3
   },
   "file_extension": ".py",
   "mimetype": "text/x-python",
   "name": "python",
   "nbconvert_exporter": "python",
   "pygments_lexer": "ipython3",
   "version": "3.6.9"
  }
 },
 "nbformat": 4,
 "nbformat_minor": 4
}
