{
 "cells": [
  {
   "cell_type": "markdown",
   "metadata": {},
   "source": [
    "## Cú pháp \n",
    "    file object = open(<file_name>, <mode>, <buffering>)\n",
    "    \n",
    "### mode:\n",
    "    - r : mở file ra chỉ để đọc\n",
    "    - rb : mở file chỉ để đọc ở định dạng nhị phân\n",
    "    - r+ : mở file để đọc và ghi, con trỏ được đặt đầu file\n",
    "    - rb+ : mở file để đọc và ghi ở chế độ nhị phân, con trỏ được đặt đầu file\n",
    "    - w : mở file chỉ để đọc, tạo file mới nếu file không tồn tại \n",
    "    - wb : mở file chỉ để đọc ở chế độ nhị phân, tạo file mới nếu file không tồn tại\n",
    "    - w+ : mở file để đọc và ghi, tạo file mới nếu file không tồn tại\n",
    "    - wb+ : mở file để đọc và ghi ở chế độ nhị phân, tạo file mới nếu file không tồn tại\n",
    "    - a : mở file để ghi tiếp vào file con trỏ file sẽ được đặt vào cuối file\n",
    "    - ab : mở file để ghi ở chế độ nhị phân, con trỏ đặt ở cuối file\n",
    "    - a+ : mở file để đọc và ghi, con trỏ đặt ở cuối file \n",
    "    - ab+ : mở file để đọc và ghi ở chế độ nhị phân, con trỏ đặt cuối file\n",
    "    \n",
    "### Đóng file:\n",
    "    <file>.close()"
   ]
  },
  {
   "cell_type": "code",
   "execution_count": null,
   "metadata": {},
   "outputs": [],
   "source": []
  },
  {
   "cell_type": "markdown",
   "metadata": {},
   "source": [
    "## Các phương thức\n",
    "     - <file>.read(<size>): truyền vào kích thước muốn đọc\n",
    "     - <file>.readline(<size>): kích thước muốn đọc trên 1 dòng\n",
    "     - <file>.readlines(): trả về tất cả các dòng trong file theo kiểu list\n",
    "     - <file>.write(<chuỗi>): ghi 1 dòng vào file\n",
    "     - <file>.writelines(<danh sách chuỗi>): ghi chuỗi vào file\n",
    "     "
   ]
  },
  {
   "cell_type": "code",
   "execution_count": null,
   "metadata": {},
   "outputs": [],
   "source": []
  }
 ],
 "metadata": {
  "kernelspec": {
   "display_name": "Python 3",
   "language": "python",
   "name": "python3"
  },
  "language_info": {
   "codemirror_mode": {
    "name": "ipython",
    "version": 3
   },
   "file_extension": ".py",
   "mimetype": "text/x-python",
   "name": "python",
   "nbconvert_exporter": "python",
   "pygments_lexer": "ipython3",
   "version": "3.6.9"
  }
 },
 "nbformat": 4,
 "nbformat_minor": 4
}
