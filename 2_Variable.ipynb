{
 "cells": [
  {
   "cell_type": "markdown",
   "metadata": {},
   "source": [
    "# Khai báo biến\n",
    "### Cú pháp: <tên biến> = <giá trị của biến>\n",
    "    + tên biến không bắt đầu bằng số\n",
    "    + tên biến không trùng với các từ khóa của python\n",
    "### khởi tạo nhiều biến:\n",
    "    <tên biến thứ nhất>, ..,<tên tên biến thứ n> = <giá trị biến thứ nhất>, .., <giá trị biến thứ n>"
   ]
  },
  {
   "cell_type": "code",
   "execution_count": 1,
   "metadata": {},
   "outputs": [],
   "source": [
    "#cách 1\n",
    "a=1\n",
    "b=2\n",
    "#cách 2\n",
    "a, b = 1, 2"
   ]
  },
  {
   "cell_type": "code",
   "execution_count": null,
   "metadata": {},
   "outputs": [],
   "source": []
  },
  {
   "cell_type": "markdown",
   "metadata": {},
   "source": [
    "# Kiểm tra kiểu dữ liệu\n",
    "- Không như đa số các ngôn ngữ lập trình khác, khi khai báo biến phải đi kèm với kiểu dữ liệu. Trong Python việc khai báo kiểu dữ liệu cho biến không cần thiết mà Python sẽ tự biết kiểu dữ liệu của giá trị gán cho biến\n",
    "### Cú pháp type(<tên biến>) \n",
    "### Python cung cấp các kiểu dữ liệu\n",
    "    - Số: int và float\n",
    "    - String\n",
    "    - Ngoài ra còn các kiểu dữ liệu như: Decimal, Fraction, complex."
   ]
  },
  {
   "cell_type": "code",
   "execution_count": 10,
   "metadata": {},
   "outputs": [
    {
     "name": "stdout",
     "output_type": "stream",
     "text": [
      "type of a:  <class 'int'>\n",
      "type of b:  <class 'str'>\n"
     ]
    }
   ],
   "source": [
    "a=1 \n",
    "b='AI Lab'\n",
    "print('type of a: ', type(a))\n",
    "print('type of b: ', type(b))"
   ]
  },
  {
   "cell_type": "markdown",
   "metadata": {},
   "source": [
    "# Các toán tử cơ bản đối với dữ liệu Số\n",
    "### Toán hạn: bao gồm hằng hoặc biến số\n",
    "### Toán tử: bao gồm các phép tính +, -, * , /, %, // , **, -=, +=, *=, /=\n"
   ]
  },
  {
   "cell_type": "code",
   "execution_count": null,
   "metadata": {},
   "outputs": [],
   "source": []
  },
  {
   "cell_type": "markdown",
   "metadata": {},
   "source": [
    "# Truyền giá trị của biến vào hàm print"
   ]
  },
  {
   "cell_type": "code",
   "execution_count": 18,
   "metadata": {},
   "outputs": [
    {
     "name": "stdout",
     "output_type": "stream",
     "text": [
      "a=10, b=20\n",
      "a=10, b=20\n",
      "a=10, b=20\n",
      "a=20, b=10\n"
     ]
    }
   ],
   "source": [
    "a=10\n",
    "b=20\n",
    "# cách 1\n",
    "print('a=%d, b=%d'%(a, b))\n",
    "#cách 2\n",
    "print('a={}, b={}'.format(a, b))\n",
    "#hoặc\n",
    "print('a={0}, b={1}'.format(a, b))\n",
    "# số 0 và 1 là thứ tự để truyền\n",
    "print('a={1}, b={0}'.format(a, b))"
   ]
  },
  {
   "cell_type": "markdown",
   "metadata": {},
   "source": [
    "# Giới thiệu thư viện math\n",
    "## Cú pháp để sử dụng 1 thư viện trong python: \n",
    "    - cách 1: import <tên thư viện>\n",
    "    - cách 2: from <tên thư viện> import <tên hàm> (tên hàm có thể thay bằng dấu * nếu muốn import toàn bộ)\n",
    "### Nếu thư viên chưa có sẵn thì có thể cài bằng cách mở terminal gõ lệnh: \n",
    "    - pip install <tên thư viện> đối với windows\n",
    "    - pip3 install <tên thư viện> đối với linux\n"
   ]
  },
  {
   "cell_type": "code",
   "execution_count": 13,
   "metadata": {},
   "outputs": [],
   "source": [
    "import math\n",
    "from math import sqrt\n",
    "from math import * "
   ]
  },
  {
   "cell_type": "code",
   "execution_count": 14,
   "metadata": {},
   "outputs": [
    {
     "data": {
      "text/plain": [
       "4.0"
      ]
     },
     "execution_count": 14,
     "metadata": {},
     "output_type": "execute_result"
    }
   ],
   "source": [
    "sqrt(16)"
   ]
  },
  {
   "cell_type": "code",
   "execution_count": 3,
   "metadata": {},
   "outputs": [],
   "source": [
    "a=10\n",
    "b=20"
   ]
  },
  {
   "cell_type": "code",
   "execution_count": 10,
   "metadata": {},
   "outputs": [
    {
     "name": "stdout",
     "output_type": "stream",
     "text": [
      "a= 10 b= 20\n"
     ]
    }
   ],
   "source": [
    "print('a= '+str(a)+' b= '+str(b))"
   ]
  },
  {
   "cell_type": "code",
   "execution_count": null,
   "metadata": {},
   "outputs": [],
   "source": []
  }
 ],
 "metadata": {
  "kernelspec": {
   "display_name": "Python 3",
   "language": "python",
   "name": "python3"
  },
  "language_info": {
   "codemirror_mode": {
    "name": "ipython",
    "version": 3
   },
   "file_extension": ".py",
   "mimetype": "text/x-python",
   "name": "python",
   "nbconvert_exporter": "python",
   "pygments_lexer": "ipython3",
   "version": "3.7.4"
  }
 },
 "nbformat": 4,
 "nbformat_minor": 4
}
