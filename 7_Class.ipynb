{
 "cells": [
  {
   "cell_type": "markdown",
   "metadata": {},
   "source": [
    "### Cú pháp khai báo class\n",
    "    class <tên lớp>:\n",
    "        <xử lý>\n",
    "### Hàm constructor (initialize method)\n",
    "    class <tên lớp>:\n",
    "        def __init__(self, <biên 1 >, ..., <biến n>):\n",
    "            self.<thuộc tính 1>=<biến 1>\n",
    "            ....\n",
    "            \n",
    "### Phương thức \n",
    "    class <tên lớp>:\n",
    "        def __init__(self, ...):\n",
    "            ....\n",
    "        def <tên phương thức>(self, <biến 1>, ....):\n",
    "            <code>"
   ]
  },
  {
   "cell_type": "code",
   "execution_count": 25,
   "metadata": {},
   "outputs": [
    {
     "name": "stdout",
     "output_type": "stream",
     "text": [
      "nam\n",
      "xin chào nam\n",
      "None\n"
     ]
    }
   ],
   "source": [
    "class SinhVien:\n",
    "    def __init__(self, ten, mssv):\n",
    "        self.ten=ten\n",
    "        self.mssv=mssv\n",
    "        \n",
    "    def chao(self, s):\n",
    "        print(s + ' ' + self.ten)\n",
    "        \n",
    "sv=SinhVien('nam', 123)\n",
    "print(sv.ten)\n",
    "print(sv.chao('xin chào'))"
   ]
  },
  {
   "cell_type": "markdown",
   "metadata": {},
   "source": [
    "### Khởi tạo giá trị mặc định cho thuộc tính "
   ]
  },
  {
   "cell_type": "code",
   "execution_count": 29,
   "metadata": {},
   "outputs": [
    {
     "name": "stdout",
     "output_type": "stream",
     "text": [
      "18\n",
      "20\n"
     ]
    }
   ],
   "source": [
    "class SinhVien:\n",
    "    def __init__(self, ten, mssv, tuoi=18):\n",
    "        self.ten=ten\n",
    "        self.mssv=mssv\n",
    "        self.tuoi=tuoi\n",
    "sv1=SinhVien('n', 123)\n",
    "sv2=SinhVien('l', 456, 20)\n",
    "print(sv1.tuoi)\n",
    "print(sv2.tuoi)"
   ]
  },
  {
   "cell_type": "markdown",
   "metadata": {},
   "source": [
    "### Kế thừa\n",
    "    - Lớp con kế thừa các thuộc tính và phương thức của lớp cha, ngoài ra lớp con còn có thể  ghi đè phương thức cùa lớp cha\n",
    "    - cú pháp \n",
    "    class <tên class>(<tên class cha>):\n",
    "        <code>\n",
    "### Kế thừa hàm constructor\n",
    "    class <tên class>(<tên class cha>):\n",
    "        def __init__(self, <tên các biến>):\n",
    "            super().__init__(<tên các biến truyền vào lớp cha>)\n",
    "            <các thuộc tính lớp con>"
   ]
  },
  {
   "cell_type": "code",
   "execution_count": 31,
   "metadata": {},
   "outputs": [
    {
     "name": "stdout",
     "output_type": "stream",
     "text": [
      "n 20\n"
     ]
    }
   ],
   "source": [
    "# VD\n",
    "class Nguoi:\n",
    "    def __init__(self, ten, tuoi):\n",
    "        self.ten=ten\n",
    "        self.tuoi=tuoi\n",
    "    def xuat(self):\n",
    "        print(self.ten, self.tuoi)\n",
    "        \n",
    "class SinhVien(Nguoi):\n",
    "    def __init__(self, ten, tuoi, mssv):\n",
    "        super().__init__(ten, tuoi)\n",
    "        self.mssv=mssv\n",
    "        \n",
    "sv=SinhVien('n', 20, 123)\n",
    "sv.xuat()\n"
   ]
  },
  {
   "cell_type": "markdown",
   "metadata": {},
   "source": [
    "### Ghi đè phương thức "
   ]
  },
  {
   "cell_type": "code",
   "execution_count": 36,
   "metadata": {},
   "outputs": [
    {
     "name": "stdout",
     "output_type": "stream",
     "text": [
      "n 20\n",
      "123\n"
     ]
    }
   ],
   "source": [
    "class SinhVien(Nguoi):\n",
    "    def __init__(self, ten, tuoi, mssv):\n",
    "        super().__init__(ten, tuoi)\n",
    "        self.mssv=mssv\n",
    "     \n",
    "    def xuat(self):\n",
    "        super().xuat()\n",
    "        print(self.mssv)\n",
    "        \n",
    "sv=SinhVien('n', 20, 123)\n",
    "sv.xuat()"
   ]
  },
  {
   "cell_type": "markdown",
   "metadata": {},
   "source": [
    "### Các phương thức đặc biệt "
   ]
  },
  {
   "cell_type": "code",
   "execution_count": 37,
   "metadata": {},
   "outputs": [
    {
     "name": "stdout",
     "output_type": "stream",
     "text": [
      "Ten: l, tuoi: 345, mssv: 123\n"
     ]
    }
   ],
   "source": [
    "# __str__\n",
    "\n",
    "class SinhVien:\n",
    "    def __init__(self, ten, mssv, tuoi=18):\n",
    "        self.ten=ten\n",
    "        self.mssv=mssv\n",
    "        self.tuoi=tuoi\n",
    "    def __str__(self):\n",
    "        return \"Ten: {}, tuoi: {}, mssv: {}\".format(self.ten, self.tuoi, self.mssv)\n",
    "    \n",
    "sv=SinhVien('l', 123, 345)\n",
    "print(sv)"
   ]
  },
  {
   "cell_type": "code",
   "execution_count": 40,
   "metadata": {},
   "outputs": [
    {
     "name": "stdout",
     "output_type": "stream",
     "text": [
      "11\n",
      "11\n",
      "[1, 2, 3, 4]\n"
     ]
    }
   ],
   "source": [
    "# __add__\n",
    "print(10+1)\n",
    "print(int.__add__(10, 1))\n",
    "print(list.__add__([1, 2], [3, 4]))"
   ]
  },
  {
   "cell_type": "code",
   "execution_count": 39,
   "metadata": {},
   "outputs": [
    {
     "name": "stdout",
     "output_type": "stream",
     "text": [
      "5\n"
     ]
    }
   ],
   "source": [
    "# __len__\n",
    "print(str.__len__('hello'))"
   ]
  },
  {
   "cell_type": "markdown",
   "metadata": {},
   "source": [
    "# Bài tập:\n",
    "    1. Viết một class với 2 phương thức:\n",
    "        + getString: nhận vào một chuỗi\n",
    "        + printString: xuất ra chuỗi đã chuyển sang chữ hoa\n",
    "    2. Tạo một class HinhChuNhat\n",
    "        + Thuộc tính: chieuDai, chieuRong\n",
    "        + Phương thức: tinhDienTich, tinhChuVi\n",
    "    "
   ]
  }
 ],
 "metadata": {
  "kernelspec": {
   "display_name": "Python 3",
   "language": "python",
   "name": "python3"
  },
  "language_info": {
   "codemirror_mode": {
    "name": "ipython",
    "version": 3
   },
   "file_extension": ".py",
   "mimetype": "text/x-python",
   "name": "python",
   "nbconvert_exporter": "python",
   "pygments_lexer": "ipython3",
   "version": "3.6.9"
  }
 },
 "nbformat": 4,
 "nbformat_minor": 4
}
