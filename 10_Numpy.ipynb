{
 "cells": [
  {
   "cell_type": "markdown",
   "metadata": {},
   "source": [
    "    - numpy là một gói Python là viết tắt của Numerical Python\n",
    "    - numpy là một thư viện mạnh mẽ trong việc tính toán ma trận \n",
    "    - cài đặt:\n",
    "        + pip install numpy : windows\n",
    "        + pip3 install numpy: linux"
   ]
  },
  {
   "cell_type": "code",
   "execution_count": 2,
   "metadata": {},
   "outputs": [],
   "source": [
    "import numpy as np\n",
    "# khai báo một ma trận numpy\n",
    "\n",
    "# 1 chiều \n",
    "arr1=np.array([1, 2, 3])\n",
    "\n",
    "# 2 chiều \n",
    "arr2=np.array([[1, 2, 3], [2, 3, 4]])"
   ]
  },
  {
   "cell_type": "code",
   "execution_count": 4,
   "metadata": {},
   "outputs": [
    {
     "name": "stdout",
     "output_type": "stream",
     "text": [
      "1\n",
      "2\n"
     ]
    }
   ],
   "source": [
    "# tính số chiều của ma trận\n",
    "print(arr1.ndim)\n",
    "print(arr2.ndim)"
   ]
  },
  {
   "cell_type": "code",
   "execution_count": 5,
   "metadata": {},
   "outputs": [
    {
     "name": "stdout",
     "output_type": "stream",
     "text": [
      "int64\n"
     ]
    }
   ],
   "source": [
    "# kiểu dữ liệu của phần tử trong ma trận\n",
    "print(arr1.dtype)"
   ]
  },
  {
   "cell_type": "code",
   "execution_count": 6,
   "metadata": {},
   "outputs": [
    {
     "name": "stdout",
     "output_type": "stream",
     "text": [
      "(2, 3)\n"
     ]
    }
   ],
   "source": [
    "# kích thước của ma trận (hàng x cột)\n",
    "print(arr2.shape)"
   ]
  },
  {
   "cell_type": "code",
   "execution_count": 8,
   "metadata": {},
   "outputs": [
    {
     "name": "stdout",
     "output_type": "stream",
     "text": [
      "(3, 2)\n"
     ]
    }
   ],
   "source": [
    "# đổi kích thước của ma trận m x n sang p x q\n",
    "# điều kiện m x n = p x q\n",
    "arr2=arr2.reshape((3, 2))\n",
    "print(arr2.shape)"
   ]
  },
  {
   "cell_type": "code",
   "execution_count": 11,
   "metadata": {},
   "outputs": [
    {
     "name": "stdout",
     "output_type": "stream",
     "text": [
      "[[1 3 3]\n",
      " [2 2 4]]\n"
     ]
    }
   ],
   "source": [
    "# ma trận chuyển vị\n",
    "print(arr2.T)"
   ]
  },
  {
   "cell_type": "code",
   "execution_count": 12,
   "metadata": {},
   "outputs": [
    {
     "name": "stdout",
     "output_type": "stream",
     "text": [
      "4\n",
      "1\n"
     ]
    }
   ],
   "source": [
    "# giá trị lớn nhất, nhỏ nhất trong ma trận\n",
    "print(arr2.max())\n",
    "print(arr2.min())"
   ]
  },
  {
   "cell_type": "code",
   "execution_count": 13,
   "metadata": {},
   "outputs": [
    {
     "name": "stdout",
     "output_type": "stream",
     "text": [
      "15\n"
     ]
    }
   ],
   "source": [
    "# tính tổng các phần tử trong ma trận\n",
    "print(arr2.sum())"
   ]
  },
  {
   "cell_type": "code",
   "execution_count": 15,
   "metadata": {},
   "outputs": [
    {
     "name": "stdout",
     "output_type": "stream",
     "text": [
      "[[1 2]\n",
      " [3 2]\n",
      " [3 4]]\n",
      "[7 8]\n",
      "[3 5 7]\n"
     ]
    }
   ],
   "source": [
    "# tính tổng theo từng dòng/cột\n",
    "print(arr2)\n",
    "print(arr2.sum(axis=0))\n",
    "print(arr2.sum(axis=1))"
   ]
  },
  {
   "cell_type": "code",
   "execution_count": 21,
   "metadata": {},
   "outputs": [
    {
     "name": "stdout",
     "output_type": "stream",
     "text": [
      "[[1 2 3]\n",
      " [3 4 5]\n",
      " [1 2 3]\n",
      " [3 4 5]]\n",
      "\n",
      "[[1 2 3 1 2 3]\n",
      " [3 4 5 3 4 5]]\n"
     ]
    }
   ],
   "source": [
    "# nối 2 ma trận Vertical & Horizontal Stacking\n",
    "x= np.array([[1,2,3],[3,4,5]])\n",
    "y= np.array([[1,2,3],[3,4,5]])\n",
    "print(np.vstack((x,y)))\n",
    "print()\n",
    "print(np.hstack((x,y)))"
   ]
  },
  {
   "cell_type": "code",
   "execution_count": 30,
   "metadata": {},
   "outputs": [
    {
     "name": "stdout",
     "output_type": "stream",
     "text": [
      "[1 2 4]\n",
      "[5 7 1]\n",
      "[ 9 10  5]\n",
      "-----------\n",
      "[1 2 4]\n",
      "4\n",
      "[4 1]\n",
      "------------\n",
      "[[1 2]]\n"
     ]
    }
   ],
   "source": [
    "# duyệt ma trận\n",
    "x=np.array([\n",
    "    [1, 2, 4],\n",
    "    [5, 7, 1],\n",
    "    [9, 10, 5]\n",
    "])\n",
    "\n",
    "for i in x:\n",
    "    print(i)\n",
    "print('-----------')\n",
    "# truy cập giá trị bằng index\n",
    "print(x[0])\n",
    "print(x[0][2])\n",
    "\n",
    "# lấy các giá trị từ dòng đầu tiên đến dòng thứ 2-1 của cộ thứ 2\n",
    "print(x[:2, 2])\n",
    "print('------------')\n",
    "# cắt ma trận\n",
    "# x[n:m, p:q] lấy từ dòng n -> m, cột p -> q\n",
    "# nếu không có n hoặc p mặc định lấy từ đầu\n",
    "# nếu không có m hoặc q mặc định lấy đến cuối \n",
    "print(x[:1, :2])"
   ]
  },
  {
   "cell_type": "code",
   "execution_count": 33,
   "metadata": {},
   "outputs": [
    {
     "name": "stdout",
     "output_type": "stream",
     "text": [
      "[[ 4  5  7]\n",
      " [ 8 10  4]\n",
      " [12 13  8]]\n",
      "-----------\n",
      "[[ 2  4  8]\n",
      " [ 8 14  2]\n",
      " [11 18 10]]\n"
     ]
    }
   ],
   "source": [
    "# cộng trừ ma trận\n",
    "# cộng với 1 số\n",
    "x=np.array([\n",
    "    [1, 2, 4],\n",
    "    [5, 7, 1],\n",
    "    [9, 10, 5]\n",
    "])\n",
    "\n",
    "print(x+3)\n",
    "print('-----------')\n",
    "\n",
    "# cộng 2 ma trận\n",
    "y=np.array([\n",
    "    [1, 2, 4],\n",
    "    [3, 7, 1],\n",
    "    [2, 8, 5]\n",
    "])\n",
    "print(x+y)\n",
    "# tương tự với nhân chia"
   ]
  },
  {
   "cell_type": "code",
   "execution_count": 21,
   "metadata": {},
   "outputs": [],
   "source": [
    "a=np.array([\n",
    "    [1, 2, 3],\n",
    "    [4, 5, 6],\n",
    "    [7, 8 ,9]\n",
    "])"
   ]
  },
  {
   "cell_type": "code",
   "execution_count": 23,
   "metadata": {},
   "outputs": [
    {
     "name": "stdout",
     "output_type": "stream",
     "text": [
      "[[1. 1. 1.]\n",
      " [1. 1. 1.]\n",
      " [1. 1. 1.]]\n",
      "\n",
      "[[1 1 1]\n",
      " [1 1 1]\n",
      " [1 1 1]]\n"
     ]
    }
   ],
   "source": [
    "# hàm ones\n",
    "print(np.ones((3, 3)))\n",
    "\n",
    "print()\n",
    "# hàm ones_like\n",
    "print(np.ones_like(a))"
   ]
  },
  {
   "cell_type": "code",
   "execution_count": 25,
   "metadata": {},
   "outputs": [
    {
     "name": "stdout",
     "output_type": "stream",
     "text": [
      "[[0 0 0 0 0]\n",
      " [0 0 0 0 0]\n",
      " [0 0 0 0 0]\n",
      " [0 0 0 0 0]\n",
      " [0 0 0 0 0]]\n",
      "\n",
      "[[0 0 0]\n",
      " [0 0 0]\n",
      " [0 0 0]]\n"
     ]
    }
   ],
   "source": [
    "# hàm zeros\n",
    "print(np.zeros((5, 5), dtype=np.int))\n",
    "\n",
    "print()\n",
    "# hàm zeros_like\n",
    "print(np.zeros_like(a))"
   ]
  },
  {
   "cell_type": "code",
   "execution_count": 8,
   "metadata": {},
   "outputs": [
    {
     "data": {
      "text/plain": [
       "array([[10, 10, 10],\n",
       "       [10, 10, 10],\n",
       "       [10, 10, 10]])"
      ]
     },
     "execution_count": 8,
     "metadata": {},
     "output_type": "execute_result"
    }
   ],
   "source": [
    "# hàm full\n",
    "np.full((3, 3), 10)"
   ]
  },
  {
   "cell_type": "code",
   "execution_count": 10,
   "metadata": {},
   "outputs": [
    {
     "data": {
      "text/plain": [
       "array([[1., 0., 0., 0.],\n",
       "       [0., 1., 0., 0.],\n",
       "       [0., 0., 1., 0.],\n",
       "       [0., 0., 0., 1.]])"
      ]
     },
     "execution_count": 10,
     "metadata": {},
     "output_type": "execute_result"
    }
   ],
   "source": [
    "# hàm eye\n",
    "np.eye(4)"
   ]
  },
  {
   "cell_type": "code",
   "execution_count": 12,
   "metadata": {},
   "outputs": [
    {
     "data": {
      "text/plain": [
       "array([[0.97017713, 0.63794232],\n",
       "       [0.43862966, 0.13850597]])"
      ]
     },
     "execution_count": 12,
     "metadata": {},
     "output_type": "execute_result"
    }
   ],
   "source": [
    "# random\n",
    "np.random.random((2, 2))"
   ]
  },
  {
   "cell_type": "code",
   "execution_count": 14,
   "metadata": {},
   "outputs": [],
   "source": [
    "# arange\n",
    "a=np.arange(10)"
   ]
  },
  {
   "cell_type": "code",
   "execution_count": 17,
   "metadata": {},
   "outputs": [
    {
     "name": "stdout",
     "output_type": "stream",
     "text": [
      "[False False False False False False  True  True  True  True]\n"
     ]
    }
   ],
   "source": [
    "b = a>5\n",
    "print(b)"
   ]
  },
  {
   "cell_type": "code",
   "execution_count": 18,
   "metadata": {},
   "outputs": [
    {
     "data": {
      "text/plain": [
       "array([6, 7, 8, 9])"
      ]
     },
     "execution_count": 18,
     "metadata": {},
     "output_type": "execute_result"
    }
   ],
   "source": [
    "a[b]"
   ]
  },
  {
   "cell_type": "code",
   "execution_count": 19,
   "metadata": {},
   "outputs": [
    {
     "data": {
      "text/plain": [
       "array([4, 5, 6, 7, 8, 9])"
      ]
     },
     "execution_count": 19,
     "metadata": {},
     "output_type": "execute_result"
    }
   ],
   "source": [
    "a[a>3]"
   ]
  },
  {
   "cell_type": "code",
   "execution_count": null,
   "metadata": {},
   "outputs": [],
   "source": []
  }
 ],
 "metadata": {
  "kernelspec": {
   "display_name": "Python 3",
   "language": "python",
   "name": "python3"
  },
  "language_info": {
   "codemirror_mode": {
    "name": "ipython",
    "version": 3
   },
   "file_extension": ".py",
   "mimetype": "text/x-python",
   "name": "python",
   "nbconvert_exporter": "python",
   "pygments_lexer": "ipython3",
   "version": "3.6.9"
  }
 },
 "nbformat": 4,
 "nbformat_minor": 4
}
